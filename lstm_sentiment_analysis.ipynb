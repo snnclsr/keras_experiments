{
  "nbformat": 4,
  "nbformat_minor": 0,
  "metadata": {
    "colab": {
      "name": "lstm_sentiment_analysis.ipynb",
      "version": "0.3.2",
      "provenance": [],
      "collapsed_sections": []
    },
    "kernelspec": {
      "name": "python3",
      "display_name": "Python 3"
    },
    "accelerator": "GPU"
  },
  "cells": [
    {
      "metadata": {
        "id": "J5Fj3PHPCY7W",
        "colab_type": "code",
        "colab": {}
      },
      "cell_type": "code",
      "source": [
        "train_path = \".kaggle/competitions/si650winter11/training.txt\"\n",
        "test_path = \".kaggle/competitions/si650winter11/testdata.txt\""
      ],
      "execution_count": 0,
      "outputs": []
    },
    {
      "metadata": {
        "id": "rKOHkEdcDQUY",
        "colab_type": "code",
        "colab": {
          "base_uri": "https://localhost:8080/",
          "height": 68
        },
        "outputId": "f2527b5d-5fe2-4cee-a4df-6cb9bc36a88b"
      },
      "cell_type": "code",
      "source": [
        "from keras.layers import Dense, Dropout, SpatialDropout1D\n",
        "from keras.layers.embeddings import Embedding\n",
        "from keras.layers.recurrent import LSTM\n",
        "from keras.models import Sequential\n",
        "from keras.preprocessing import sequence\n",
        "\n",
        "import numpy as np\n",
        "from sklearn.model_selection import train_test_split\n",
        "import matplotlib.pyplot as plt\n",
        "\n",
        "import collections\n",
        "import os\n",
        "\n",
        "import nltk\n",
        "nltk.download('punkt')"
      ],
      "execution_count": 75,
      "outputs": [
        {
          "output_type": "stream",
          "text": [
            "[nltk_data] Downloading package punkt to /content/nltk_data...\n",
            "[nltk_data]   Package punkt is already up-to-date!\n"
          ],
          "name": "stdout"
        },
        {
          "output_type": "execute_result",
          "data": {
            "text/plain": [
              "True"
            ]
          },
          "metadata": {
            "tags": []
          },
          "execution_count": 75
        }
      ]
    },
    {
      "metadata": {
        "id": "IENubQ0DD9bT",
        "colab_type": "code",
        "colab": {}
      },
      "cell_type": "code",
      "source": [
        "maxlen = 0\n",
        "word_freqs = collections.Counter()\n",
        "num_recs = 0"
      ],
      "execution_count": 0,
      "outputs": []
    },
    {
      "metadata": {
        "id": "EmZBxTO6ENgk",
        "colab_type": "code",
        "colab": {}
      },
      "cell_type": "code",
      "source": [
        "ftrain = open(train_path, 'rb')\n",
        "count = 0\n",
        "for line in ftrain:\n",
        "  line = line.decode('ascii', 'ignore').lower()\n",
        "  label, sentence = line.strip().split('\\t')\n",
        "  words = nltk.word_tokenize(sentence)\n",
        "  if len(words) > maxlen:\n",
        "    maxlen = len(words)\n",
        "  \n",
        "  for word in words:\n",
        "    word_freqs[word] += 1\n",
        "  num_recs += 1\n",
        "\n",
        "ftrain.close()"
      ],
      "execution_count": 0,
      "outputs": []
    },
    {
      "metadata": {
        "id": "oh_dEmRrHehk",
        "colab_type": "code",
        "colab": {
          "base_uri": "https://localhost:8080/",
          "height": 51
        },
        "outputId": "7cabe411-4bce-48d0-b86e-f3a83c60c706"
      },
      "cell_type": "code",
      "source": [
        "print(maxlen)\n",
        "print(len(word_freqs))"
      ],
      "execution_count": 78,
      "outputs": [
        {
          "output_type": "stream",
          "text": [
            "42\n",
            "2313\n"
          ],
          "name": "stdout"
        }
      ]
    },
    {
      "metadata": {
        "id": "3e6aFBhhJa53",
        "colab_type": "code",
        "colab": {}
      },
      "cell_type": "code",
      "source": [
        "MAX_SENTENCE_LENTGH = 40\n",
        "MAX_FEATURES = 2000\n",
        "\n",
        "\n",
        "vocab_size = min(MAX_FEATURES, len(word_freqs)) + 2\n",
        "word2index = {c[0]: i for i, c in enumerate(word_freqs.most_common(MAX_FEATURES), start=2)}\n",
        "\n",
        "word2index[\"PAD\"] = 0\n",
        "word2index[\"UNK\"] = 1\n",
        "\n",
        "index2word = {v: k for k, v in word2index.items()}"
      ],
      "execution_count": 0,
      "outputs": []
    },
    {
      "metadata": {
        "id": "ZLPVnfbMk4nJ",
        "colab_type": "code",
        "colab": {}
      },
      "cell_type": "code",
      "source": [
        "x = np.empty((num_recs, ), dtype=list)\n",
        "y = np.empty((num_recs, ))\n",
        "\n",
        "i = 0\n",
        "ftrain = open(train_path, 'rb')\n",
        "\n",
        "for line in ftrain:\n",
        "  line = line.decode('ascii', 'ignore').lower()\n",
        "  label, sentence = line.strip().split('\\t')\n",
        "  words = nltk.word_tokenize(sentence)\n",
        "  seqs = []\n",
        "  for word in words:\n",
        "    if word in word2index:\n",
        "      seqs.append(word2index[word])\n",
        "    else:\n",
        "      seqs.append(word2index[\"UNK\"])\n",
        "      \n",
        "  x[i] = seqs\n",
        "  y[i] = int(label)\n",
        "  i += 1\n",
        "    \n",
        "ftrain.close()\n",
        "\n",
        "x = sequence.pad_sequences(x, maxlen=MAX_SENTENCE_LENTGH)"
      ],
      "execution_count": 0,
      "outputs": []
    },
    {
      "metadata": {
        "id": "EiJsoPUpl7fo",
        "colab_type": "code",
        "colab": {
          "base_uri": "https://localhost:8080/",
          "height": 54
        },
        "outputId": "1324a82c-ce15-4b5b-c022-e16d9142f15d"
      },
      "cell_type": "code",
      "source": [
        "for i in x[0]:\n",
        "  print(index2word[i] + ' ', end='')"
      ],
      "execution_count": 81,
      "outputs": [
        {
          "output_type": "stream",
          "text": [
            "PAD PAD PAD PAD PAD PAD PAD PAD PAD PAD PAD PAD PAD PAD PAD PAD PAD PAD PAD PAD PAD PAD PAD PAD PAD PAD PAD PAD PAD PAD PAD the da vinci code book is just awesome . "
          ],
          "name": "stdout"
        }
      ]
    },
    {
      "metadata": {
        "id": "9V_f2Gt_m3p4",
        "colab_type": "code",
        "colab": {
          "base_uri": "https://localhost:8080/",
          "height": 34
        },
        "outputId": "abc85416-f140-4586-8c98-0ceec78f3217"
      },
      "cell_type": "code",
      "source": [
        "y[0]"
      ],
      "execution_count": 82,
      "outputs": [
        {
          "output_type": "execute_result",
          "data": {
            "text/plain": [
              "1.0"
            ]
          },
          "metadata": {
            "tags": []
          },
          "execution_count": 82
        }
      ]
    },
    {
      "metadata": {
        "id": "iNQzEZZtm53r",
        "colab_type": "code",
        "colab": {}
      },
      "cell_type": "code",
      "source": [
        "x_train, x_test, y_train, y_test = train_test_split(x, y, test_size=0.2, random_state=42)"
      ],
      "execution_count": 0,
      "outputs": []
    },
    {
      "metadata": {
        "id": "m7BquaoNnJV4",
        "colab_type": "code",
        "colab": {}
      },
      "cell_type": "code",
      "source": [
        "model = Sequential()\n",
        "model.add(Embedding(vocab_size, 128, input_length=MAX_SENTENCE_LENTGH))\n",
        "model.add(SpatialDropout1D(0.2))\n",
        "model.add(LSTM(64, dropout=0.2, recurrent_dropout=0.2, unroll=True))\n",
        "model.add(Dense(1, activation='sigmoid'))\n",
        "\n",
        "model.compile(loss='binary_crossentropy', optimizer='adam', metrics=['accuracy'])"
      ],
      "execution_count": 0,
      "outputs": []
    },
    {
      "metadata": {
        "id": "q28WU_8fosHE",
        "colab_type": "code",
        "colab": {
          "base_uri": "https://localhost:8080/",
          "height": 394
        },
        "outputId": "87576361-f1ef-4245-894d-c0cfe6beaa08"
      },
      "cell_type": "code",
      "source": [
        "history = model.fit(x_train, y_train, batch_size=32, epochs=10, validation_data=(x_test, y_test))"
      ],
      "execution_count": 87,
      "outputs": [
        {
          "output_type": "stream",
          "text": [
            "Train on 5668 samples, validate on 1418 samples\n",
            "Epoch 1/10\n",
            "5668/5668 [==============================] - 25s 4ms/step - loss: 0.2282 - acc: 0.9067 - val_loss: 0.0689 - val_acc: 0.9788\n",
            "Epoch 2/10\n",
            "5668/5668 [==============================] - 18s 3ms/step - loss: 0.0305 - acc: 0.9915 - val_loss: 0.0428 - val_acc: 0.9845\n",
            "Epoch 3/10\n",
            "1952/5668 [=========>....................] - ETA: 10s - loss: 0.0078 - acc: 0.9974"
          ],
          "name": "stdout"
        },
        {
          "output_type": "stream",
          "text": [
            "5668/5668 [==============================] - 18s 3ms/step - loss: 0.0096 - acc: 0.9975 - val_loss: 0.0352 - val_acc: 0.9908\n",
            "Epoch 4/10\n",
            "5668/5668 [==============================] - 18s 3ms/step - loss: 0.0037 - acc: 0.9986 - val_loss: 0.0542 - val_acc: 0.9873\n",
            "Epoch 5/10\n",
            "4704/5668 [=======================>......] - ETA: 2s - loss: 0.0057 - acc: 0.9983"
          ],
          "name": "stdout"
        },
        {
          "output_type": "stream",
          "text": [
            "5668/5668 [==============================] - 18s 3ms/step - loss: 0.0065 - acc: 0.9979 - val_loss: 0.0631 - val_acc: 0.9866\n",
            "Epoch 6/10\n",
            "5668/5668 [==============================] - 18s 3ms/step - loss: 0.0048 - acc: 0.9995 - val_loss: 0.0594 - val_acc: 0.9873\n",
            "Epoch 7/10\n",
            "5312/5668 [===========================>..] - ETA: 1s - loss: 0.0025 - acc: 0.9998"
          ],
          "name": "stdout"
        },
        {
          "output_type": "stream",
          "text": [
            "5668/5668 [==============================] - 18s 3ms/step - loss: 0.0024 - acc: 0.9998 - val_loss: 0.0665 - val_acc: 0.9866\n",
            "Epoch 8/10\n",
            "5668/5668 [==============================] - 18s 3ms/step - loss: 0.0012 - acc: 0.9998 - val_loss: 0.0649 - val_acc: 0.9845\n",
            "Epoch 9/10\n",
            "5440/5668 [===========================>..] - ETA: 0s - loss: 0.0024 - acc: 0.9993"
          ],
          "name": "stdout"
        },
        {
          "output_type": "stream",
          "text": [
            "5668/5668 [==============================] - 18s 3ms/step - loss: 0.0023 - acc: 0.9993 - val_loss: 0.0615 - val_acc: 0.9880\n",
            "Epoch 10/10\n",
            "5668/5668 [==============================] - 18s 3ms/step - loss: 3.2163e-04 - acc: 1.0000 - val_loss: 0.0908 - val_acc: 0.9859\n"
          ],
          "name": "stdout"
        }
      ]
    },
    {
      "metadata": {
        "id": "n7ypWp2Upy42",
        "colab_type": "code",
        "colab": {
          "base_uri": "https://localhost:8080/",
          "height": 401
        },
        "outputId": "63c31cd0-044e-433b-c5b6-5327c722457b"
      },
      "cell_type": "code",
      "source": [
        "plt.subplot(211)\n",
        "plt.title(\"Accuracy\")\n",
        "plt.plot(history.history['acc'], color='g', label='Train')\n",
        "plt.plot(history.history['val_acc'], color='b', label='Validation')\n",
        "plt.legend(loc='best')\n",
        "\n",
        "plt.subplot(212)\n",
        "plt.title(\"Loss\")\n",
        "plt.plot(history.history['loss'], color='g', label='Train')\n",
        "plt.plot(history.history['val_loss'], color='b', label='Validation')\n",
        "plt.legend(loc='best')\n",
        "\n",
        "plt.tight_layout()\n",
        "plt.show()"
      ],
      "execution_count": 88,
      "outputs": [
        {
          "output_type": "display_data",
          "data": {
            "image/png": "[encoded data removed]",
            "text/plain": [
              "<matplotlib.figure.Figure at 0x7f6be1b5e9e8>"
            ]
          },
          "metadata": {
            "tags": []
          }
        }
      ]
    },
    {
      "metadata": {
        "id": "3lX2SmQlrYLg",
        "colab_type": "code",
        "colab": {
          "base_uri": "https://localhost:8080/",
          "height": 68
        },
        "outputId": "e6620c3c-f591-47a5-cb8a-5a20728cf2fb"
      },
      "cell_type": "code",
      "source": [
        "score, acc = model.evaluate(x_test, y_test, batch_size=32)\n",
        "print(\"Test score : \", score)\n",
        "print(\"Test accuracy : \", acc)"
      ],
      "execution_count": 89,
      "outputs": [
        {
          "output_type": "stream",
          "text": [
            "1418/1418 [==============================] - 1s 1ms/step\n",
            "Test score :  0.09079404146080972\n",
            "Test accuracy :  0.9858956276445698\n"
          ],
          "name": "stdout"
        }
      ]
    },
    {
      "metadata": {
        "id": "Ruzu8Aw2rlM2",
        "colab_type": "code",
        "colab": {
          "base_uri": "https://localhost:8080/",
          "height": 102
        },
        "outputId": "7c54b49b-31b1-4448-eaa6-50da4d22ea2c"
      },
      "cell_type": "code",
      "source": [
        "for i in range(5):\n",
        "  idx = np.random.randint(len(x_test))\n",
        "  xtest = x_test[idx].reshape(1, 40)\n",
        "  ylabel = y_test[idx]\n",
        "  ypred = model.predict(x_test)[0][0]\n",
        "  sentence = \" \".join([index2word[i] for i in xtest[0].tolist() if i != 0])\n",
        "  print(\"%.0ft%dt%s\" % (ypred, ylabel, sentence))"
      ],
      "execution_count": 91,
      "outputs": [
        {
          "output_type": "stream",
          "text": [
            "1t0ti hate harry potter , that daniel wotshisface needs a fucking slap ...\n",
            "1t1tthe da vinci code was absolutely awesome !\n",
            "1t1tmission impossible 3 was excellent .\n",
            "1t0tthe da vinci code sucked big time .\n",
            "1t0tthe da vinci code sucked balls .\n"
          ],
          "name": "stdout"
        }
      ]
    },
    {
      "metadata": {
        "id": "uA2nrr2usbIz",
        "colab_type": "code",
        "colab": {}
      },
      "cell_type": "code",
      "source": [
        "ftest = open(test_path, 'rb')\n",
        "\n",
        "num_recs_test = 0\n",
        "seqs = []\n",
        "\n",
        "for line in ftest:\n",
        "  line = line.decode('ascii', 'ignore').lower()\n",
        "  sentence = line.strip()\n",
        "  words = nltk.word_tokenize(sentence)\n",
        "  seq = []\n",
        "  for word in words:\n",
        "    if word in word2index:\n",
        "      seq.append(word2index[word])\n",
        "    else:\n",
        "      seq.append(word2index[\"UNK\"])\n",
        "  \n",
        "  seqs.append(seq)\n",
        "  num_recs_test += 1\n",
        "\n",
        "ftest.close()\n",
        "\n",
        "test_x = np.empty((num_recs_test, ), dtype=list)\n",
        "\n",
        "for i in range(num_recs_test):\n",
        "  test_x[i] = seqs[i]\n",
        "  \n",
        "  \n",
        "test_x = sequence.pad_sequences(test_x, maxlen=MAX_SENTENCE_LENTGH)"
      ],
      "execution_count": 0,
      "outputs": []
    },
    {
      "metadata": {
        "id": "5aXNZPhcuotR",
        "colab_type": "code",
        "colab": {}
      },
      "cell_type": "code",
      "source": [
        "preds = model.predict(test_x)"
      ],
      "execution_count": 0,
      "outputs": []
    },
    {
      "metadata": {
        "id": "8PA5PZTauvrc",
        "colab_type": "code",
        "colab": {
          "base_uri": "https://localhost:8080/",
          "height": 34
        },
        "outputId": "9b282551-e083-4c8e-aa5c-ef4200f51c8a"
      },
      "cell_type": "code",
      "source": [
        "preds.shape"
      ],
      "execution_count": 103,
      "outputs": [
        {
          "output_type": "execute_result",
          "data": {
            "text/plain": [
              "(33052, 1)"
            ]
          },
          "metadata": {
            "tags": []
          },
          "execution_count": 103
        }
      ]
    },
    {
      "metadata": {
        "id": "BEaaZMzUwQ0Y",
        "colab_type": "code",
        "colab": {}
      },
      "cell_type": "code",
      "source": [
        "with open('submission.txt', 'w') as f:\n",
        "  for pred in preds:\n",
        "    if pred > 0.5:\n",
        "      f.write(\"1\\n\")\n",
        "    else:\n",
        "      f.write(\"0\\n\")"
      ],
      "execution_count": 0,
      "outputs": []
    },
    {
      "metadata": {
        "id": "DeDuPpl0wjv1",
        "colab_type": "code",
        "colab": {}
      },
      "cell_type": "code",
      "source": [
        "from google.colab import files\n",
        "\n",
        "files.download(\"submission.txt\")"
      ],
      "execution_count": 0,
      "outputs": []
    }
  ]
}