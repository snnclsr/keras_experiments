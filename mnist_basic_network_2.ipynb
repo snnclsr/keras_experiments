{
  "nbformat": 4,
  "nbformat_minor": 0,
  "metadata": {
    "colab": {
      "name": "mnist_basic_network_2.ipynb",
      "version": "0.3.2",
      "provenance": [],
      "collapsed_sections": []
    },
    "kernelspec": {
      "name": "python3",
      "display_name": "Python 3"
    },
    "accelerator": "GPU"
  },
  "cells": [
    {
      "metadata": {
        "id": "iyiHGxfrCMOU",
        "colab_type": "code",
        "colab": {
          "base_uri": "https://localhost:8080/",
          "height": 34
        },
        "outputId": "eaf2da3a-44d9-4c1d-8887-8a1e01e6a8ef"
      },
      "cell_type": "code",
      "source": [
        "from __future__ import print_function\n",
        "\n",
        "import numpy as np\n",
        "from keras.layers import Dense, Activation, Flatten, Dropout\n",
        "from keras.optimizers import Adam, SGD, RMSprop\n",
        "from keras.models import Sequential\n",
        "from keras.datasets import mnist\n",
        "from keras.utils import np_utils\n",
        "from keras.callbacks import ModelCheckpoint\n",
        "\n",
        "import os\n",
        "\n",
        "np.random.seed(1)"
      ],
      "execution_count": 1,
      "outputs": [
        {
          "output_type": "stream",
          "text": [
            "Using TensorFlow backend.\n"
          ],
          "name": "stderr"
        }
      ]
    },
    {
      "metadata": {
        "id": "l5hKHPayCnDD",
        "colab_type": "code",
        "colab": {}
      },
      "cell_type": "code",
      "source": [
        "(train_x, train_y), (test_x, test_y) = mnist.load_data()\n",
        "\n",
        "train_x = train_x.reshape((60000, 784))\n",
        "test_x = test_x.reshape((10000, 784))\n",
        "\n",
        "train_x = train_x.astype('float32')\n",
        "test_x = test_x.astype('float32')\n",
        "\n",
        "train_x /= 255\n",
        "test_x /= 255\n",
        "\n",
        "train_y = np_utils.to_categorical(train_y, 10)\n",
        "test_y = np_utils.to_categorical(test_y, 10)"
      ],
      "execution_count": 0,
      "outputs": []
    },
    {
      "metadata": {
        "id": "wIdxcMY6DMlX",
        "colab_type": "code",
        "colab": {}
      },
      "cell_type": "code",
      "source": [
        "model = Sequential()\n",
        "model.add(Dense(128, activation='relu', input_shape=(784, )))\n",
        "model.add(Dropout(0.2))\n",
        "model.add(Dense(128, activation='relu'))\n",
        "model.add(Dropout(0.2))\n",
        "model.add(Dense(10, activation='softmax'))"
      ],
      "execution_count": 0,
      "outputs": []
    },
    {
      "metadata": {
        "id": "Scmg1J3fFJO8",
        "colab_type": "code",
        "colab": {
          "base_uri": "https://localhost:8080/",
          "height": 306
        },
        "outputId": "f7be8553-fd5e-486c-db06-da4f0f097322"
      },
      "cell_type": "code",
      "source": [
        "adam = Adam()\n",
        "model.compile(optimizer=adam, loss='categorical_crossentropy', metrics=['accuracy'])\n",
        "model.summary()"
      ],
      "execution_count": 4,
      "outputs": [
        {
          "output_type": "stream",
          "text": [
            "_________________________________________________________________\n",
            "Layer (type)                 Output Shape              Param #   \n",
            "=================================================================\n",
            "dense_1 (Dense)              (None, 128)               100480    \n",
            "_________________________________________________________________\n",
            "dropout_1 (Dropout)          (None, 128)               0         \n",
            "_________________________________________________________________\n",
            "dense_2 (Dense)              (None, 128)               16512     \n",
            "_________________________________________________________________\n",
            "dropout_2 (Dropout)          (None, 128)               0         \n",
            "_________________________________________________________________\n",
            "dense_3 (Dense)              (None, 10)                1290      \n",
            "=================================================================\n",
            "Total params: 118,282\n",
            "Trainable params: 118,282\n",
            "Non-trainable params: 0\n",
            "_________________________________________________________________\n"
          ],
          "name": "stdout"
        }
      ]
    },
    {
      "metadata": {
        "id": "SZixBUbqFmnx",
        "colab_type": "code",
        "colab": {
          "base_uri": "https://localhost:8080/",
          "height": 411
        },
        "outputId": "3f1ef779-10ed-4c2b-9db7-2c1d86731bfb"
      },
      "cell_type": "code",
      "source": [
        "#os.mkdir(\"/tmp/best/\")\n",
        "checkpoint = ModelCheckpoint(filepath=os.path.join(\"/tmp/best/\", \"best_weights.h5\"),verbose=1, save_best_only=True)\n",
        "model.fit(train_x, train_y, epochs=5, validation_split=0.2, batch_size=128, callbacks=[checkpoint])"
      ],
      "execution_count": 5,
      "outputs": [
        {
          "output_type": "stream",
          "text": [
            "Train on 48000 samples, validate on 12000 samples\n",
            "Epoch 1/5\n",
            "48000/48000 [==============================] - 4s 89us/step - loss: 0.4547 - acc: 0.8649 - val_loss: 0.1782 - val_acc: 0.9480\n",
            "\n",
            "Epoch 00001: val_loss improved from inf to 0.17821, saving model to /tmp/best/best_weights.h5\n",
            "Epoch 2/5\n",
            "48000/48000 [==============================] - 4s 74us/step - loss: 0.1968 - acc: 0.9405 - val_loss: 0.1286 - val_acc: 0.9632\n",
            "\n",
            "Epoch 00002: val_loss improved from 0.17821 to 0.12857, saving model to /tmp/best/best_weights.h5\n",
            "Epoch 3/5\n",
            "48000/48000 [==============================] - 4s 74us/step - loss: 0.1490 - acc: 0.9561 - val_loss: 0.1035 - val_acc: 0.9693\n",
            "\n",
            "Epoch 00003: val_loss improved from 0.12857 to 0.10349, saving model to /tmp/best/best_weights.h5\n",
            "Epoch 4/5\n",
            "23936/48000 [=============>................] - ETA: 1s - loss: 0.1177 - acc: 0.9640"
          ],
          "name": "stdout"
        },
        {
          "output_type": "stream",
          "text": [
            "48000/48000 [==============================] - 4s 74us/step - loss: 0.1172 - acc: 0.9646 - val_loss: 0.0949 - val_acc: 0.9721\n",
            "\n",
            "Epoch 00004: val_loss improved from 0.10349 to 0.09488, saving model to /tmp/best/best_weights.h5\n",
            "Epoch 5/5\n",
            "48000/48000 [==============================] - 4s 75us/step - loss: 0.0995 - acc: 0.9691 - val_loss: 0.0898 - val_acc: 0.9720\n",
            "\n",
            "Epoch 00005: val_loss improved from 0.09488 to 0.08977, saving model to /tmp/best/best_weights.h5\n"
          ],
          "name": "stdout"
        },
        {
          "output_type": "execute_result",
          "data": {
            "text/plain": [
              "<keras.callbacks.History at 0x7f6d0e095ac8>"
            ]
          },
          "metadata": {
            "tags": []
          },
          "execution_count": 5
        }
      ]
    },
    {
      "metadata": {
        "id": "Hwavlv_8FvzO",
        "colab_type": "code",
        "colab": {
          "base_uri": "https://localhost:8080/",
          "height": 68
        },
        "outputId": "614316cc-d400-4a05-ef9e-2bf1ed52096c"
      },
      "cell_type": "code",
      "source": [
        "score, accuracy = model.evaluate(test_x, test_y)\n",
        "print(\"Test score: \", score)\n",
        "print(\"Test accuracy: \", accuracy)"
      ],
      "execution_count": 6,
      "outputs": [
        {
          "output_type": "stream",
          "text": [
            "10000/10000 [==============================] - 1s 69us/step\n",
            "Test score:  0.07972776100574992\n",
            "Test accuracy:  0.9756\n"
          ],
          "name": "stdout"
        }
      ]
    },
    {
      "metadata": {
        "id": "nNKal1VdtenG",
        "colab_type": "code",
        "colab": {
          "base_uri": "https://localhost:8080/",
          "height": 34
        },
        "outputId": "bfc87471-a204-4452-9e42-e72496e1a05d"
      },
      "cell_type": "code",
      "source": [
        "from google.colab import files\n",
        "\n",
        "print(os.listdir(\"/tmp/best/\"))\n",
        "files.download(\"/tmp/best/best_weights.h5\")"
      ],
      "execution_count": 17,
      "outputs": [
        {
          "output_type": "stream",
          "text": [
            "['best_weights.h5']\n"
          ],
          "name": "stdout"
        }
      ]
    }
  ]
}