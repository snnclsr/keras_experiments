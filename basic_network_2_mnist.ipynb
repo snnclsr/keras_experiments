{
  "nbformat": 4,
  "nbformat_minor": 0,
  "metadata": {
    "colab": {
      "name": "basic_network_2_mnist.ipynb",
      "version": "0.3.2",
      "provenance": [],
      "collapsed_sections": []
    },
    "kernelspec": {
      "name": "python3",
      "display_name": "Python 3"
    },
    "accelerator": "GPU"
  },
  "cells": [
    {
      "cell_type": "markdown",
      "metadata": {
        "id": "view-in-github",
        "colab_type": "text"
      },
      "source": [
        "[View in Colaboratory](https://colab.research.google.com/github/snnclsr/keras_experiments/blob/master/basic_network_2_mnist.ipynb)"
      ]
    },
    {
      "metadata": {
        "id": "iyiHGxfrCMOU",
        "colab_type": "code",
        "colab": {
          "base_uri": "https://localhost:8080/",
          "height": 34
        },
        "outputId": "932d206f-3701-4493-b1d2-dc4c55e56b79"
      },
      "cell_type": "code",
      "source": [
        "from __future__ import print_function\n",
        "\n",
        "import numpy as np\n",
        "from keras.layers import Dense, Activation, Flatten, Dropout\n",
        "from keras.optimizers import Adam, SGD, RMSprop\n",
        "from keras.models import Sequential\n",
        "from keras.datasets import mnist\n",
        "from keras.utils import np_utils\n",
        "from keras import regularizers\n",
        "\n",
        "np.random.seed(1)"
      ],
      "execution_count": 1,
      "outputs": [
        {
          "output_type": "stream",
          "text": [
            "Using TensorFlow backend.\n"
          ],
          "name": "stderr"
        }
      ]
    },
    {
      "metadata": {
        "id": "l5hKHPayCnDD",
        "colab_type": "code",
        "colab": {}
      },
      "cell_type": "code",
      "source": [
        "(train_x, train_y), (test_x, test_y) = mnist.load_data()\n",
        "\n",
        "train_x = train_x.reshape((60000, 784))\n",
        "test_x = test_x.reshape((10000, 784))\n",
        "\n",
        "train_x = train_x.astype('float32')\n",
        "test_x = test_x.astype('float32')\n",
        "\n",
        "train_x /= 255\n",
        "test_x /= 255\n",
        "\n",
        "train_y = np_utils.to_categorical(train_y, 10)\n",
        "test_y = np_utils.to_categorical(test_y, 10)"
      ],
      "execution_count": 0,
      "outputs": []
    },
    {
      "metadata": {
        "id": "wIdxcMY6DMlX",
        "colab_type": "code",
        "colab": {}
      },
      "cell_type": "code",
      "source": [
        "model = Sequential()\n",
        "model.add(Dense(128, activation='relu', input_shape=(784, )))\n",
        "model.add(Dropout(0.2))\n",
        "model.add(Dense(128, activation='relu'))\n",
        "model.add(Dropout(0.2))\n",
        "model.add(Dense(10, activation='softmax'))"
      ],
      "execution_count": 0,
      "outputs": []
    },
    {
      "metadata": {
        "id": "Scmg1J3fFJO8",
        "colab_type": "code",
        "colab": {
          "base_uri": "https://localhost:8080/",
          "height": 306
        },
        "outputId": "b7fe3dd7-e85c-428f-bf19-9d7616525798"
      },
      "cell_type": "code",
      "source": [
        "adam = Adam()\n",
        "model.compile(optimizer=adam, loss='categorical_crossentropy', metrics=['accuracy'])\n",
        "model.summary()"
      ],
      "execution_count": 4,
      "outputs": [
        {
          "output_type": "stream",
          "text": [
            "_________________________________________________________________\n",
            "Layer (type)                 Output Shape              Param #   \n",
            "=================================================================\n",
            "dense_1 (Dense)              (None, 128)               100480    \n",
            "_________________________________________________________________\n",
            "dropout_1 (Dropout)          (None, 128)               0         \n",
            "_________________________________________________________________\n",
            "dense_2 (Dense)              (None, 128)               16512     \n",
            "_________________________________________________________________\n",
            "dropout_2 (Dropout)          (None, 128)               0         \n",
            "_________________________________________________________________\n",
            "dense_3 (Dense)              (None, 10)                1290      \n",
            "=================================================================\n",
            "Total params: 118,282\n",
            "Trainable params: 118,282\n",
            "Non-trainable params: 0\n",
            "_________________________________________________________________\n"
          ],
          "name": "stdout"
        }
      ]
    },
    {
      "metadata": {
        "id": "SZixBUbqFmnx",
        "colab_type": "code",
        "colab": {
          "base_uri": "https://localhost:8080/",
          "height": 241
        },
        "outputId": "0b5b9db2-0253-4149-cdd7-b00b290e48a6"
      },
      "cell_type": "code",
      "source": [
        "model.fit(train_x, train_y, epochs=5, validation_split=0.2, batch_size=128)"
      ],
      "execution_count": 5,
      "outputs": [
        {
          "output_type": "stream",
          "text": [
            "Train on 48000 samples, validate on 12000 samples\n",
            "Epoch 1/5\n",
            "48000/48000 [==============================] - 4s 86us/step - loss: 0.4563 - acc: 0.8636 - val_loss: 0.1764 - val_acc: 0.9483\n",
            "Epoch 2/5\n",
            "48000/48000 [==============================] - 3s 68us/step - loss: 0.1957 - acc: 0.9410 - val_loss: 0.1262 - val_acc: 0.9628\n",
            "Epoch 3/5\n",
            "48000/48000 [==============================] - 3s 68us/step - loss: 0.1483 - acc: 0.9558 - val_loss: 0.1037 - val_acc: 0.9686\n",
            "Epoch 4/5\n",
            "48000/48000 [==============================] - 3s 69us/step - loss: 0.1167 - acc: 0.9642 - val_loss: 0.0971 - val_acc: 0.9703\n",
            "Epoch 5/5\n",
            "23040/48000 [=============>................] - ETA: 1s - loss: 0.1015 - acc: 0.9688"
          ],
          "name": "stdout"
        },
        {
          "output_type": "stream",
          "text": [
            "48000/48000 [==============================] - 3s 68us/step - loss: 0.1002 - acc: 0.9687 - val_loss: 0.0906 - val_acc: 0.9729\n"
          ],
          "name": "stdout"
        },
        {
          "output_type": "execute_result",
          "data": {
            "text/plain": [
              "<keras.callbacks.History at 0x7f6d9e8f12b0>"
            ]
          },
          "metadata": {
            "tags": []
          },
          "execution_count": 5
        }
      ]
    },
    {
      "metadata": {
        "id": "Hwavlv_8FvzO",
        "colab_type": "code",
        "colab": {
          "base_uri": "https://localhost:8080/",
          "height": 68
        },
        "outputId": "1b473768-b5f6-4d04-a095-d445e9de6cde"
      },
      "cell_type": "code",
      "source": [
        "score = model.evaluate(test_x, test_y)\n",
        "print(\"Test score: \", score[0])\n",
        "print(\"Test accuracy: \", score[1])"
      ],
      "execution_count": 6,
      "outputs": [
        {
          "output_type": "stream",
          "text": [
            "10000/10000 [==============================] - 1s 74us/step\n",
            "Test score:  0.08218135738428682\n",
            "Test accuracy:  0.9754\n"
          ],
          "name": "stdout"
        }
      ]
    }
  ]
}