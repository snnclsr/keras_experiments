{
  "nbformat": 4,
  "nbformat_minor": 0,
  "metadata": {
    "colab": {
      "name": "rnn_char_generation.ipynb",
      "version": "0.3.2",
      "provenance": [],
      "collapsed_sections": []
    },
    "kernelspec": {
      "name": "python3",
      "display_name": "Python 3"
    },
    "accelerator": "GPU"
  },
  "cells": [
    {
      "metadata": {
        "id": "mNZOXzpnCzE4",
        "colab_type": "code",
        "colab": {
          "base_uri": "https://localhost:8080/",
          "height": 34
        },
        "outputId": "3f8fdc24-5c17-423a-cc99-6e1a5220b889"
      },
      "cell_type": "code",
      "source": [
        "# http://www.kemik.yildiz.edu.tr/?id=28\n",
        "\n",
        "import numpy as np\n",
        "import os\n",
        "\n",
        "from keras.models import Sequential\n",
        "from keras.layers import Dense, SimpleRNN, LSTM"
      ],
      "execution_count": 1,
      "outputs": [
        {
          "output_type": "stream",
          "text": [
            "Using TensorFlow backend.\n"
          ],
          "name": "stderr"
        }
      ]
    },
    {
      "metadata": {
        "id": "rCbH_2SKDCxi",
        "colab_type": "code",
        "colab": {
          "base_uri": "https://localhost:8080/",
          "height": 34
        },
        "outputId": "88f0ee99-a912-4c9e-c673-35f9771124ec"
      },
      "cell_type": "code",
      "source": [
        "  lines = []\n",
        "\n",
        "# Her turlu kucuk karaktere cevirdigimiz icin, Ü, Ş \n",
        "# gibi karakterlere u, s vs. de atayabilirdik.\n",
        "replace_table = {\n",
        "    b'\\xfd' : b'\\x69', # i\n",
        "    b'\\xe7' : b'\\x63', # c\n",
        "    b'\\xfe' : b'\\x73', # s\n",
        "    b'\\xf0' : b'\\x67', # g\n",
        "    b'\\xf6' : b'\\x6f', # o\n",
        "    b'\\xfc' : b'\\x75', # u\n",
        "    b'\\xc7' : b'\\x43', # Ç -> C\n",
        "    b'\\xdd' : b'\\x49', # İ -> I\n",
        "    b'\\xde' : b'\\x53', # Ş -> S\n",
        "    b'\\xd6' : b'\\x4f', # Ö -> O\n",
        "    b'\\xdc' : b'\\x55', # Ü -> U    \n",
        "}\n",
        "base_dir = \"raw_texts/\"\n",
        "count = 0\n",
        "\n",
        "for d in os.listdir(base_dir):\n",
        "    for w in os.listdir(base_dir + d + '/'):\n",
        "        w_dir = base_dir + d + '/' + w\n",
        "        \n",
        "        with open(w_dir, 'rb') as f:\n",
        "            for line in f:\n",
        "                for k, v in replace_table.items():\n",
        "                    line = line.replace(k, v)\n",
        "                line = line.strip().lower()\n",
        "                line = line.decode('utf-8', 'ignore')\n",
        "                if len(line) == 0:\n",
        "                    continue\n",
        "                lines.append(line)\n",
        "        count += 1\n",
        "\n",
        "print(count)"
      ],
      "execution_count": 4,
      "outputs": [
        {
          "output_type": "stream",
          "text": [
            "270\n"
          ],
          "name": "stdout"
        }
      ]
    },
    {
      "metadata": {
        "id": "I-bbFpKvDI4R",
        "colab_type": "code",
        "colab": {}
      },
      "cell_type": "code",
      "source": [
        "text = \" \".join(lines)"
      ],
      "execution_count": 0,
      "outputs": []
    },
    {
      "metadata": {
        "id": "gmg4WG4jONk0",
        "colab_type": "code",
        "colab": {
          "base_uri": "https://localhost:8080/",
          "height": 71
        },
        "outputId": "3bdc6ce1-7a54-4fb7-82f5-43a3cf636fb1"
      },
      "cell_type": "code",
      "source": [
        "chars = set(text)\n",
        "print(chars)\n",
        "\n",
        "nb_chars = len(chars)\n",
        "print(nb_chars)\n",
        "\n",
        "char2index = {c: i for i, c in enumerate(chars)}\n",
        "index2char = {i: c for i, c in enumerate(chars)}"
      ],
      "execution_count": 6,
      "outputs": [
        {
          "output_type": "stream",
          "text": [
            "{'j', '\"', 'd', '*', 'e', 'a', ':', ';', '=', '3', ',', '(', 'z', '?', 'r', '/', \"'\", '<', 'h', '-', '6', 'v', 'o', '4', 'u', 'q', 'b', ')', '1', 'k', '2', 'l', 'f', '7', 'n', '0', '+', 'y', 'm', 'c', ' ', 'x', 'i', '.', 's', '8', 'w', '%', '9', '5', '!', 'p', 'g', 't'}\n",
            "54\n"
          ],
          "name": "stdout"
        }
      ]
    },
    {
      "metadata": {
        "id": "5NRncx4UOuF2",
        "colab_type": "code",
        "colab": {}
      },
      "cell_type": "code",
      "source": [
        "STEP = 2\n",
        "SEQLEN = 15\n",
        "\n",
        "input_chars = []\n",
        "labels = []\n",
        "for i in range(0, len(text) - SEQLEN, STEP):\n",
        "    input_chars.append(text[i:i+SEQLEN])\n",
        "    labels.append(text[i+SEQLEN])"
      ],
      "execution_count": 0,
      "outputs": []
    },
    {
      "metadata": {
        "id": "yEyAaKQaOyV-",
        "colab_type": "code",
        "colab": {
          "base_uri": "https://localhost:8080/",
          "height": 187
        },
        "outputId": "47176eb3-3b6a-4209-a30f-ff79fcab1b1d"
      },
      "cell_type": "code",
      "source": [
        "input_chars[:10]"
      ],
      "execution_count": 18,
      "outputs": [
        {
          "output_type": "execute_result",
          "data": {
            "text/plain": [
              "[\"ozal'i cevresi \",\n",
              " \"al'i cevresi ol\",\n",
              " \"'i cevresi oldu\",\n",
              " ' cevresi oldurd',\n",
              " 'evresi oldurdu!',\n",
              " 'resi oldurdu! s',\n",
              " 'si oldurdu! sek',\n",
              " ' oldurdu! sekiz',\n",
              " 'ldurdu! sekizin',\n",
              " 'urdu! sekizinci']"
            ]
          },
          "metadata": {
            "tags": []
          },
          "execution_count": 18
        }
      ]
    },
    {
      "metadata": {
        "id": "Yj_aW_HdOzk2",
        "colab_type": "code",
        "colab": {
          "base_uri": "https://localhost:8080/",
          "height": 34
        },
        "outputId": "94a3364e-2445-4738-97b8-8b5b216c536d"
      },
      "cell_type": "code",
      "source": [
        "labels[:10]"
      ],
      "execution_count": 19,
      "outputs": [
        {
          "output_type": "execute_result",
          "data": {
            "text/plain": [
              "['o', 'd', 'r', 'u', ' ', 'e', 'i', 'i', 'c', ' ']"
            ]
          },
          "metadata": {
            "tags": []
          },
          "execution_count": 19
        }
      ]
    },
    {
      "metadata": {
        "id": "-oZf2naIO1sJ",
        "colab_type": "code",
        "colab": {
          "base_uri": "https://localhost:8080/",
          "height": 34
        },
        "outputId": "72d1b407-a79e-4b29-b744-cb37a7b9297f"
      },
      "cell_type": "code",
      "source": [
        "# One-hot encode the characters \n",
        "len_of_input = len(input_chars)\n",
        "print(len_of_input)\n",
        "\n",
        "x = np.zeros((len_of_input, SEQLEN, nb_chars), dtype=np.bool)\n",
        "y = np.zeros((len_of_input, nb_chars), dtype=np.bool)\n",
        "\n",
        "for i, input_char in enumerate(input_chars):\n",
        "    for j, ch in enumerate(input_char):\n",
        "        x[i, j, char2index[ch]] = 1\n",
        "    y[i, char2index[labels[i]] ] = 1"
      ],
      "execution_count": 20,
      "outputs": [
        {
          "output_type": "stream",
          "text": [
            "465346\n"
          ],
          "name": "stdout"
        }
      ]
    },
    {
      "metadata": {
        "id": "_wieCy7mO7Yr",
        "colab_type": "code",
        "colab": {
          "base_uri": "https://localhost:8080/",
          "height": 204
        },
        "outputId": "31bc3378-8401-4959-8e12-15a5c146e70a"
      },
      "cell_type": "code",
      "source": [
        "model = Sequential()\n",
        "model.add(SimpleRNN(128, input_shape=(SEQLEN, nb_chars), unroll=True))\n",
        "model.add(Dense(nb_chars, activation='softmax'))\n",
        "\n",
        "model.compile(optimizer='rmsprop', loss='categorical_crossentropy')\n",
        "model.summary()"
      ],
      "execution_count": 21,
      "outputs": [
        {
          "output_type": "stream",
          "text": [
            "_________________________________________________________________\n",
            "Layer (type)                 Output Shape              Param #   \n",
            "=================================================================\n",
            "simple_rnn_4 (SimpleRNN)     (None, 128)               23424     \n",
            "_________________________________________________________________\n",
            "dense_4 (Dense)              (None, 54)                6966      \n",
            "=================================================================\n",
            "Total params: 30,390\n",
            "Trainable params: 30,390\n",
            "Non-trainable params: 0\n",
            "_________________________________________________________________\n"
          ],
          "name": "stdout"
        }
      ]
    },
    {
      "metadata": {
        "id": "GYnWaIBIHPj8",
        "colab_type": "code",
        "colab": {}
      },
      "cell_type": "code",
      "source": [
        "def sample(preds, temp=1.0):\n",
        "  preds = np.asarray(preds).astype('float64')\n",
        "  preds = np.log(preds) / temp\n",
        "  exp_preds = np.exp(preds)\n",
        "  preds = exp_preds / np.sum(exp_preds)\n",
        "  preds = preds.ravel()\n",
        "  probas = np.random.multinomial(1, preds, 1, )\n",
        "  \n",
        "  return np.argmax(probas)"
      ],
      "execution_count": 0,
      "outputs": []
    },
    {
      "metadata": {
        "id": "5X-fHgLfO-in",
        "colab_type": "code",
        "colab": {
          "base_uri": "https://localhost:8080/",
          "height": 2587
        },
        "outputId": "4838d771-8fb7-459d-a948-fc601efc29af"
      },
      "cell_type": "code",
      "source": [
        "for iteration in range(30):\n",
        "    print(\"=\" * 50)\n",
        "    print(\"Iteration #: \", iteration)\n",
        "    \n",
        "    model.fit(x, y, batch_size=128, epochs=1)\n",
        "    \n",
        "    index = np.random.randint(0, len_of_input - SEQLEN - 1)\n",
        "    test_chars = text[index: index + SEQLEN] \n",
        "    \n",
        "    for i in range(200):\n",
        "        test_x = np.zeros((1, SEQLEN, nb_chars))\n",
        "        for i, ch in enumerate(test_chars):\n",
        "            test_x[0, i, char2index[ch]] = 1\n",
        "        \n",
        "        preds = model.predict(test_x, verbose=0)\n",
        "        index = sample(preds, 0.5)\n",
        "        ypred = index2char[index]\n",
        "        print(ypred, end='')\n",
        "        test_chars = test_chars[1:] + ypred\n",
        "    print()"
      ],
      "execution_count": 34,
      "outputs": [
        {
          "output_type": "stream",
          "text": [
            "==================================================\n",
            "Iteration #:  0\n",
            "Epoch 1/1\n",
            "454016/465346 [============================>.] - ETA: 0s - loss: 1.9810"
          ],
          "name": "stdout"
        },
        {
          "output_type": "stream",
          "text": [
            "465346/465346 [==============================] - 38s 81us/step - loss: 1.9806\n",
            "i yapaclari da yaralari hali tat yazeleren sir de oldugu bir terkiye ?unu ve basini bayatin, hasan donemlerin ecine karaflarinin karalarini istasa caksir esti. ayladini aliyoruz. bun konum\" deyeklerin\n",
            "==================================================\n",
            "Iteration #:  1\n",
            "Epoch 1/1\n",
            "149632/465346 [========>.....................] - ETA: 25s - loss: 1.9288"
          ],
          "name": "stdout"
        },
        {
          "output_type": "stream",
          "text": [
            "465346/465346 [==============================] - 38s 81us/step - loss: 1.9131\n",
            "turk siyasan devret eli gatir basari alkinda yani sayisinda bulumda, yakanat varilanin onemini tarsin sonra silan olarak, bunun hali olucu karmalin dopran buyakalar isten yapma nekirlerin bir de yapal\n",
            "==================================================\n",
            "Iteration #:  2\n",
            "Epoch 1/1\n",
            " 96000/465346 [=====>........................] - ETA: 30s - loss: 1.8709"
          ],
          "name": "stdout"
        },
        {
          "output_type": "stream",
          "text": [
            "465346/465346 [==============================] - 38s 82us/step - loss: 1.8642\n",
            "r gelesi oluyor. gerekini alani cakaraktan daha saderi isiyorum de bir derlerin tem olabilir mu? degiliyor. siyasi istiki bile durdu. ecevit de degil mu.. hafta alasini gerek ankarani icin ismalarini \n",
            "==================================================\n",
            "Iteration #:  3\n",
            "Epoch 1/1\n",
            " 90112/465346 [====>.........................] - ETA: 30s - loss: 1.8328"
          ],
          "name": "stdout"
        },
        {
          "output_type": "stream",
          "text": [
            "465346/465346 [==============================] - 37s 80us/step - loss: 1.8292\n",
            "ti kaldiri altini da kararlik... bu sorunun istanetin oylaya kapilan bu alabilirinin ettigi kolak rapatlarini degilimi altina karsilan buyuk yapmaz ciyasetirinini alayacak, bu alayasinin derekli olara\n",
            "==================================================\n",
            "Iteration #:  4\n",
            "Epoch 1/1\n",
            " 88704/465346 [====>.........................] - ETA: 30s - loss: 1.7993"
          ],
          "name": "stdout"
        },
        {
          "output_type": "stream",
          "text": [
            "465346/465346 [==============================] - 37s 81us/step - loss: 1.8020\n",
            "netlik ve mumaz yarata bu baskani in anlasma yapilan bir turkiye olarak bu bu temsiyor. bankasi olarak ise edilmasi gereken bir turk kitretilmesi artikasindan bir bendirilmasi gerde olanayan ve ariyor\n",
            "==================================================\n",
            "Iteration #:  5\n",
            "Epoch 1/1\n",
            " 88960/465346 [====>.........................] - ETA: 30s - loss: 1.7805"
          ],
          "name": "stdout"
        },
        {
          "output_type": "stream",
          "text": [
            "465346/465346 [==============================] - 38s 81us/step - loss: 1.7804\n",
            "dervis olan bir haline demek gelen miktet baskanina yalinda ile da dusununu de bakanlardan yaratim kalita ancak bir sayisinda 1'ne soruplugu da ulkedirilmesini profa olan bir tarafinda yapilacak kimen\n",
            "==================================================\n",
            "Iteration #:  6\n",
            "Epoch 1/1\n",
            " 88832/465346 [====>.........................] - ETA: 30s - loss: 1.7632"
          ],
          "name": "stdout"
        },
        {
          "output_type": "stream",
          "text": [
            "465346/465346 [==============================] - 38s 81us/step - loss: 1.7623\n",
            "neklerinde yani de hazirlar. bu serelerinin ve icin basan boyuncu sivan etmek yilmaz. bu arasinda bir ecevitini de degil bir karar secimlerine gorusturmalarinin bu de o turkiye bu sert ediyor. bu an e\n",
            "==================================================\n",
            "Iteration #:  7\n",
            "Epoch 1/1\n",
            " 87040/465346 [====>.........................] - ETA: 30s - loss: 1.7448"
          ],
          "name": "stdout"
        },
        {
          "output_type": "stream",
          "text": [
            "465346/465346 [==============================] - 38s 81us/step - loss: 1.7473\n",
            "egilor kararlik, anlatmis olan kamali olan olan bir secim da 100 yil siktoroglu turkiye alik katarak mumhur yapilmasini kadar yilda bir olmak desvetlik bir turkiye cikarimi karsilik diye sayisi diye y\n",
            "==================================================\n",
            "Iteration #:  8\n",
            "Epoch 1/1\n",
            " 88320/465346 [====>.........................] - ETA: 30s - loss: 1.7291"
          ],
          "name": "stdout"
        },
        {
          "output_type": "stream",
          "text": [
            "465346/465346 [==============================] - 38s 81us/step - loss: 1.7356\n",
            "e oldugunu bir de sasti olmak istene gerekel seknet edecek siman sonundur. su de icin gereken gerektigini seciriyor. siyaset kalirlanmis ve gelende sorusunu icin karara son de verdigi bir da sonkanin \n",
            "==================================================\n",
            "Iteration #:  9\n",
            "Epoch 1/1\n",
            " 86912/465346 [====>.........................] - ETA: 30s - loss: 1.7153"
          ],
          "name": "stdout"
        },
        {
          "output_type": "stream",
          "text": [
            "465346/465346 [==============================] - 38s 81us/step - loss: 1.7245\n",
            "unu buyuk gecen turkiye insanlar da bunlarin sanayi yakarak liktigi okurul esmelerle ilgili olursa bulunmamak gerceklerini yapan milyit en bunu olmamaniz siyasete yapilan bir tek de etmek isten isteri\n",
            "==================================================\n",
            "Iteration #:  10\n",
            "Epoch 1/1\n",
            " 86528/465346 [====>.........................] - ETA: 31s - loss: 1.7019"
          ],
          "name": "stdout"
        },
        {
          "output_type": "stream",
          "text": [
            "465346/465346 [==============================] - 38s 81us/step - loss: 1.7152\n",
            "eden iste baslamayi anlaymalarinin katilecek ve kapalara kapilirdi. sonunu konusunde teplesinde bir kadar amarak yapilan mamar da sayinin bir karara gorunluk etmemek karar karar da dogru gecirmek ilec\n",
            "==================================================\n",
            "Iteration #:  11\n",
            "Epoch 1/1\n",
            " 86144/465346 [====>.........................] - ETA: 30s - loss: 1.6952"
          ],
          "name": "stdout"
        },
        {
          "output_type": "stream",
          "text": [
            "465346/465346 [==============================] - 38s 81us/step - loss: 1.7078\n",
            " bir karaplara olan harli olasilik sadetlerin istedigini bir kadar san de oldugu hastana atirlanmasinin sakistirili. korusunda bir tarih olarak karsilastiriyoruz. hastanelik kadar icin basta kadar cal\n",
            "==================================================\n",
            "Iteration #:  12\n",
            "Epoch 1/1\n",
            " 87168/465346 [====>.........................] - ETA: 30s - loss: 1.7008"
          ],
          "name": "stdout"
        },
        {
          "output_type": "stream",
          "text": [
            "465346/465346 [==============================] - 38s 81us/step - loss: 1.7009\n",
            "gecen koladikli gecen karsilarindan basina gecmesi gecirilmek. gelismelerinin son caha da buyuk yazi yapmisti. bu kendire soylemek kaisi her secimizde baslamis olan degil menin karsinin yani asirdikla\n",
            "==================================================\n",
            "Iteration #:  13\n",
            "Epoch 1/1\n",
            " 88064/465346 [====>.........................] - ETA: 30s - loss: 1.6836"
          ],
          "name": "stdout"
        },
        {
          "output_type": "stream",
          "text": [
            "465346/465346 [==============================] - 38s 81us/step - loss: 1.6942\n",
            "sorunlugunu sordugunu de kayniyor. bu sorunlarin sanlari de bu konusunda yakinda olarak istedigini bulundugunu bir sert eden demisti. bir da bir avrupa olacak bir asina karadaki tekrarin bakanlari ici\n",
            "==================================================\n",
            "Iteration #:  14\n",
            "Epoch 1/1\n",
            " 86400/465346 [====>.........................] - ETA: 30s - loss: 1.6766"
          ],
          "name": "stdout"
        },
        {
          "output_type": "stream",
          "text": [
            "465346/465346 [==============================] - 38s 81us/step - loss: 1.6883\n",
            "r. seliyor, bu tur ve calisi disindan baskan ve calisan hazim telefa basariyor. bu buluna de bulunun icin bir kendi olayi yapmakta bir sorumlu bir da yatalan gorus ediliyor, konusunda degillik icin al\n",
            "==================================================\n",
            "Iteration #:  15\n",
            "Epoch 1/1\n",
            " 86144/465346 [====>.........................] - ETA: 30s - loss: 1.6835"
          ],
          "name": "stdout"
        },
        {
          "output_type": "stream",
          "text": [
            "465346/465346 [==============================] - 37s 80us/step - loss: 1.6832\n",
            "ni arasinda, ne hayatini yapmakta dunyasinda kadar... yer temsin isaniyor, olmayan sadece bakinda yani kimin veyatiyle bir avatan bankasi devat olan icinde beyle bu acalatmek ise boyle yasanin de bell\n",
            "==================================================\n",
            "Iteration #:  16\n",
            "Epoch 1/1\n",
            " 87552/465346 [====>.........................] - ETA: 30s - loss: 1.6651"
          ],
          "name": "stdout"
        },
        {
          "output_type": "stream",
          "text": [
            "465346/465346 [==============================] - 37s 80us/step - loss: 1.6788\n",
            "sayin onemli gelistigi de bendir. tanimizi sanir mecevi isseme yeni bir hayati ertik yarat markiye de istilarimizi saglik boyle kadar kurulunun islam de hem uzarin bankani durumda kararla devlet etmes\n",
            "==================================================\n",
            "Iteration #:  17\n",
            "Epoch 1/1\n",
            " 87424/465346 [====>.........................] - ETA: 30s - loss: 1.6649"
          ],
          "name": "stdout"
        },
        {
          "output_type": "stream",
          "text": [
            "465346/465346 [==============================] - 38s 81us/step - loss: 1.6738\n",
            "k arasin de kisi karsi kalirma yapmisti. insanlik durum aciklama yaprik bir yaranlari belirlenmiyor. doneminde butun kurulusu ucun bir turk - teror en politika nenel siyasi ile daha soyle yukatliklari\n",
            "==================================================\n",
            "Iteration #:  18\n",
            "Epoch 1/1\n",
            " 85632/465346 [====>.........................] - ETA: 30s - loss: 1.6685"
          ],
          "name": "stdout"
        },
        {
          "output_type": "stream",
          "text": [
            "465346/465346 [==============================] - 38s 81us/step - loss: 1.6698\n",
            "diye yapilacak bir baskani secim sonra idam anlattigi ve milletin bu kitap bir sayinca \"di deniz siyaset yapilan bakanlarin sonra orlayan bir bunun ihram ucum konusunda sayi cumhure gibi sirket araciy\n",
            "==================================================\n",
            "Iteration #:  19\n",
            "Epoch 1/1\n",
            " 87680/465346 [====>.........................] - ETA: 30s - loss: 1.6555"
          ],
          "name": "stdout"
        },
        {
          "output_type": "stream",
          "text": [
            "465346/465346 [==============================] - 38s 81us/step - loss: 1.6655\n",
            "ni olarak karar ve sonunda ortadigi baskani yapmak isterinde bir seyi bastan etmek icin dogru de bir baskani sonuclarin anlatmasini ile bir denetim baskani sonucu arasinda bilancoya once aradika olayi\n",
            "==================================================\n",
            "Iteration #:  20\n",
            "Epoch 1/1\n",
            " 87168/465346 [====>.........................] - ETA: 30s - loss: 1.6503"
          ],
          "name": "stdout"
        },
        {
          "output_type": "stream",
          "text": [
            "465346/465346 [==============================] - 38s 81us/step - loss: 1.6623\n",
            "gelecek. buyuk bunu kendi olayacak. bankalarin baskani sirdim. baskani baskani surecinin anlatmasini ve gosterilir. bakimin ve kabul soyle ber durum istemeler ve kararlarini arastirmaya bir de patir a\n",
            "==================================================\n",
            "Iteration #:  21\n",
            "Epoch 1/1\n",
            " 85504/465346 [====>.........................] - ETA: 31s - loss: 1.6522"
          ],
          "name": "stdout"
        },
        {
          "output_type": "stream",
          "text": [
            "465346/465346 [==============================] - 38s 81us/step - loss: 1.6593\n",
            "erin gorevinde bir tartismalari yapiliyor. ann sonun altinda yapiliyor. istiyor. bu yasanin calislarindan bir alindigi turkiyede deniz bir tarafindan dogrulari altindan bir icin dolar mermek adaminda \n",
            "==================================================\n",
            "Iteration #:  22\n",
            "Epoch 1/1\n",
            " 86528/465346 [====>.........................] - ETA: 30s - loss: 1.6550"
          ],
          "name": "stdout"
        },
        {
          "output_type": "stream",
          "text": [
            "465346/465346 [==============================] - 38s 81us/step - loss: 1.6554\n",
            "rulu bir top degildi. turk sayit kararlarin ilen konusunda egitimler. anna bir sozune degil. bunlarin tem baskani de anlatmak icin sonunda tesmi turkiye bu konu katilmaz bu sorunlari gercekten sorunla\n",
            "==================================================\n",
            "Iteration #:  23\n",
            "Epoch 1/1\n",
            " 88192/465346 [====>.........................] - ETA: 30s - loss: 1.6469"
          ],
          "name": "stdout"
        },
        {
          "output_type": "stream",
          "text": [
            "465346/465346 [==============================] - 38s 81us/step - loss: 1.6526\n",
            "tan genelkurmayi baska kiminda belir da sonun seyi bir ercemini de ayni gerener bir soyle acinda sayile gelirlerine giriyor. istanbul baskani de demisti. ayrilar basinda tarimsizlarin anlasindan geni \n",
            "==================================================\n",
            "Iteration #:  24\n",
            "Epoch 1/1\n",
            " 86656/465346 [====>.........................] - ETA: 30s - loss: 1.6500"
          ],
          "name": "stdout"
        },
        {
          "output_type": "stream",
          "text": [
            "465346/465346 [==============================] - 38s 81us/step - loss: 1.6500\n",
            "kumetin turkisemleri baskanliginin degismetiniz murkesinde kararini kararlarina bir turk hareketleri bir turkiye kalan duyukluduk olan baskan gibi gerekim kureledir. avrupa kararlarinda buyuk konusula\n",
            "==================================================\n",
            "Iteration #:  25\n",
            "Epoch 1/1\n",
            " 87936/465346 [====>.........................] - ETA: 30s - loss: 1.6385"
          ],
          "name": "stdout"
        },
        {
          "output_type": "stream",
          "text": [
            "465346/465346 [==============================] - 38s 82us/step - loss: 1.6466\n",
            "diye sormak gecmiyor. anna pararlar bir kalip bir onunda heyemenlerinin baskani de boglanin mesil ediliyor. piyasalarin de katilarla kapadilarini bir sermayen anlatmis. basarilarinda de bu sorumlarin \n",
            "==================================================\n",
            "Iteration #:  26\n",
            "Epoch 1/1\n",
            " 88448/465346 [====>.........................] - ETA: 30s - loss: 1.6332"
          ],
          "name": "stdout"
        },
        {
          "output_type": "stream",
          "text": [
            "465346/465346 [==============================] - 38s 81us/step - loss: 1.6444\n",
            "nun gereken yarat genel tartisilara alinmasi icin dunya alman dahiliyle kararlarin baslarindan beni yani bir tekilleri gozunlerin etkiniyle sanali kurulusun isin gerekiyor. annan bir teror olmasini al\n",
            "==================================================\n",
            "Iteration #:  27\n",
            "Epoch 1/1\n",
            " 88448/465346 [====>.........................] - ETA: 30s - loss: 1.6334"
          ],
          "name": "stdout"
        },
        {
          "output_type": "stream",
          "text": [
            "465346/465346 [==============================] - 38s 81us/step - loss: 1.6425\n",
            " karlarta degisimi sayion uzerine kurulmadi. kitapin gelismeye alman uneri bir siyasi karara goresi ve cikarak hastanesi ihrahit ule de bu durumuz. baska sermaye gecen arasindan plan sorumlu, derisind\n",
            "==================================================\n",
            "Iteration #:  28\n",
            "Epoch 1/1\n",
            " 87040/465346 [====>.........................] - ETA: 30s - loss: 1.6294"
          ],
          "name": "stdout"
        },
        {
          "output_type": "stream",
          "text": [
            "465346/465346 [==============================] - 38s 81us/step - loss: 1.6393\n",
            "adilar. bu konusma sadece islami aradik soylemedigi icin kendi simdi meclis istanbul alma geldigi ikili bir seytir\" bir kezdir. tartisma murastin yilinda degil. sozune basi olursa karsilari bekleneri \n",
            "==================================================\n",
            "Iteration #:  29\n",
            "Epoch 1/1\n",
            " 86400/465346 [====>.........................] - ETA: 31s - loss: 1.6286"
          ],
          "name": "stdout"
        },
        {
          "output_type": "stream",
          "text": [
            "465346/465346 [==============================] - 38s 81us/step - loss: 1.6373\n",
            "abderlik olgus siranin yazinda orkeleri malisin milletvekili ifadelerin idamis gerektigi\" kivini yaristirdi. boyle bir almadik ve diyor. annede bir arafindan bankalar adim olmasini icin de kararim izl\n"
          ],
          "name": "stdout"
        }
      ]
    }
  ]
}