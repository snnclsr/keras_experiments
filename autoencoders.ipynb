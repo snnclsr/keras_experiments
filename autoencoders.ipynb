{
  "nbformat": 4,
  "nbformat_minor": 0,
  "metadata": {
    "colab": {
      "name": "autoencoders.ipynb",
      "version": "0.3.2",
      "provenance": [],
      "collapsed_sections": []
    },
    "kernelspec": {
      "name": "python3",
      "display_name": "Python 3"
    },
    "accelerator": "GPU"
  },
  "cells": [
    {
      "metadata": {
        "id": "9KdhSAzE-jSF",
        "colab_type": "code",
        "colab": {
          "base_uri": "https://localhost:8080/",
          "height": 34
        },
        "outputId": "81fcb2e1-bcbc-4b22-b47a-9e66e73dcc02"
      },
      "cell_type": "code",
      "source": [
        "from keras.datasets import mnist\n",
        "from keras.layers import Dense, Conv2D, Conv2DTranspose, Flatten, MaxPool2D, Reshape, Input\n",
        "from keras.models import Sequential, Model\n",
        "\n",
        "import numpy as np\n",
        "import matplotlib.pyplot as plt"
      ],
      "execution_count": 1,
      "outputs": [
        {
          "output_type": "stream",
          "text": [
            "Using TensorFlow backend.\n"
          ],
          "name": "stderr"
        }
      ]
    },
    {
      "metadata": {
        "id": "E374XmDW-iXk",
        "colab_type": "code",
        "colab": {}
      },
      "cell_type": "code",
      "source": [
        "(X_train, y_train), (X_test, y_test) = mnist.load_data()\n",
        "\n",
        "X_train = X_train.reshape(60000, 28, 28, 1)\n",
        "X_test = X_test.reshape(10000, 28, 28, 1)\n",
        "\n",
        "X_train = X_train.astype('float32') / 255\n",
        "X_test = X_test.astype('float32') / 255\n",
        "\n",
        "del y_train, y_test"
      ],
      "execution_count": 0,
      "outputs": []
    },
    {
      "metadata": {
        "id": "aHnQx_WI_lC7",
        "colab_type": "code",
        "colab": {}
      },
      "cell_type": "code",
      "source": [
        "# 32 -> 64 -> 128 -> 256\n",
        "\n",
        "def create_encoder(img_shape, hidden_size):\n",
        "  \n",
        "  encoder = Sequential()\n",
        "  encoder.add(Conv2D(32, (3, 3), activation='elu', padding='same', input_shape=img_shape))\n",
        "  encoder.add(MaxPool2D())\n",
        "  encoder.add(Conv2D(64, (3, 3), activation='elu', padding='same'))\n",
        "  encoder.add(MaxPool2D())\n",
        "  encoder.add(Conv2D(128, (3, 3), activation='elu', padding='same'))\n",
        "  encoder.add(MaxPool2D())\n",
        "  encoder.add(Conv2D(256, (3, 3), activation='elu', padding='same'))\n",
        "  encoder.add(MaxPool2D())\n",
        "  encoder.add(Flatten())\n",
        "  encoder.add(Dense(hidden_size))\n",
        "  \n",
        "  return encoder\n",
        "\n",
        "# 128 -> 64 -> 32 -> 1\n",
        "\n",
        "def create_decoder(img_shape, hidden_size):\n",
        "\n",
        "  decoder = Sequential()\n",
        "  decoder.add(Dense(np.prod(img_shape), input_shape=(hidden_size, )))\n",
        "  decoder.add(Reshape(img_shape))\n",
        "  decoder.add(Conv2DTranspose(128, (3, 3), padding='same', strides=1, activation='elu'))\n",
        "  decoder.add(Conv2DTranspose(64, (3, 3), padding='same', strides=1, activation='elu'))\n",
        "  decoder.add(Conv2DTranspose(32, (3, 3), padding='same', strides=1, activation='elu'))\n",
        "  decoder.add(Conv2DTranspose(1, (3, 3), padding='same', strides=1, activation=None))\n",
        "  \n",
        "  print(\"decoder output_shape : \", decoder.output_shape)\n",
        "  return decoder"
      ],
      "execution_count": 0,
      "outputs": []
    },
    {
      "metadata": {
        "id": "0gGSVaAKBpPh",
        "colab_type": "code",
        "colab": {
          "base_uri": "https://localhost:8080/",
          "height": 901
        },
        "outputId": "364fc4bb-6927-470c-b025-189b5f6fa670"
      },
      "cell_type": "code",
      "source": [
        "img_shape = X_train[0].shape\n",
        "print(\"img_shape : \", img_shape)\n",
        "hidden_size = 32\n",
        "\n",
        "encoder = create_encoder(img_shape, hidden_size)\n",
        "decoder = create_decoder(img_shape, hidden_size)\n",
        "\n",
        "print(\"\\nEncoder network : \")\n",
        "encoder.summary()\n",
        "\n",
        "print(\"\\nDecoder network : \")\n",
        "decoder.summary()"
      ],
      "execution_count": 4,
      "outputs": [
        {
          "output_type": "stream",
          "text": [
            "img_shape :  (28, 28, 1)\n",
            "decoder output_shape :  (None, 28, 28, 1)\n",
            "\n",
            "Encoder network : \n",
            "_________________________________________________________________\n",
            "Layer (type)                 Output Shape              Param #   \n",
            "=================================================================\n",
            "conv2d_1 (Conv2D)            (None, 28, 28, 32)        320       \n",
            "_________________________________________________________________\n",
            "max_pooling2d_1 (MaxPooling2 (None, 14, 14, 32)        0         \n",
            "_________________________________________________________________\n",
            "conv2d_2 (Conv2D)            (None, 14, 14, 64)        18496     \n",
            "_________________________________________________________________\n",
            "max_pooling2d_2 (MaxPooling2 (None, 7, 7, 64)          0         \n",
            "_________________________________________________________________\n",
            "conv2d_3 (Conv2D)            (None, 7, 7, 128)         73856     \n",
            "_________________________________________________________________\n",
            "max_pooling2d_3 (MaxPooling2 (None, 3, 3, 128)         0         \n",
            "_________________________________________________________________\n",
            "conv2d_4 (Conv2D)            (None, 3, 3, 256)         295168    \n",
            "_________________________________________________________________\n",
            "max_pooling2d_4 (MaxPooling2 (None, 1, 1, 256)         0         \n",
            "_________________________________________________________________\n",
            "flatten_1 (Flatten)          (None, 256)               0         \n",
            "_________________________________________________________________\n",
            "dense_1 (Dense)              (None, 32)                8224      \n",
            "=================================================================\n",
            "Total params: 396,064\n",
            "Trainable params: 396,064\n",
            "Non-trainable params: 0\n",
            "_________________________________________________________________\n",
            "\n",
            "Decoder network : \n",
            "_________________________________________________________________\n",
            "Layer (type)                 Output Shape              Param #   \n",
            "=================================================================\n",
            "dense_2 (Dense)              (None, 784)               25872     \n",
            "_________________________________________________________________\n",
            "reshape_1 (Reshape)          (None, 28, 28, 1)         0         \n",
            "_________________________________________________________________\n",
            "conv2d_transpose_1 (Conv2DTr (None, 28, 28, 128)       1280      \n",
            "_________________________________________________________________\n",
            "conv2d_transpose_2 (Conv2DTr (None, 28, 28, 64)        73792     \n",
            "_________________________________________________________________\n",
            "conv2d_transpose_3 (Conv2DTr (None, 28, 28, 32)        18464     \n",
            "_________________________________________________________________\n",
            "conv2d_transpose_4 (Conv2DTr (None, 28, 28, 1)         289       \n",
            "=================================================================\n",
            "Total params: 119,697\n",
            "Trainable params: 119,697\n",
            "Non-trainable params: 0\n",
            "_________________________________________________________________\n"
          ],
          "name": "stdout"
        }
      ]
    },
    {
      "metadata": {
        "id": "ETHtORkDB_jG",
        "colab_type": "code",
        "colab": {
          "base_uri": "https://localhost:8080/",
          "height": 238
        },
        "outputId": "ed41461d-1cc5-4402-f20a-fa8115a38057"
      },
      "cell_type": "code",
      "source": [
        "inputs = Input(img_shape)\n",
        "code = encoder(inputs)\n",
        "reconstruction = decoder(code)\n",
        "\n",
        "model = Model(inputs=inputs, outputs=reconstruction)\n",
        "model.compile(optimizer='adamax', loss='mse')\n",
        "model.summary()"
      ],
      "execution_count": 5,
      "outputs": [
        {
          "output_type": "stream",
          "text": [
            "_________________________________________________________________\n",
            "Layer (type)                 Output Shape              Param #   \n",
            "=================================================================\n",
            "input_1 (InputLayer)         (None, 28, 28, 1)         0         \n",
            "_________________________________________________________________\n",
            "sequential_1 (Sequential)    (None, 32)                396064    \n",
            "_________________________________________________________________\n",
            "sequential_2 (Sequential)    (None, 28, 28, 1)         119697    \n",
            "=================================================================\n",
            "Total params: 515,761\n",
            "Trainable params: 515,761\n",
            "Non-trainable params: 0\n",
            "_________________________________________________________________\n"
          ],
          "name": "stdout"
        }
      ]
    },
    {
      "metadata": {
        "id": "ppX9l4e3Dc4P",
        "colab_type": "code",
        "colab": {
          "base_uri": "https://localhost:8080/",
          "height": 207
        },
        "outputId": "078ef640-862b-4e46-cfe4-22e6ea61d3d2"
      },
      "cell_type": "code",
      "source": [
        "history = model.fit(X_train, X_train, epochs=5)"
      ],
      "execution_count": 6,
      "outputs": [
        {
          "output_type": "stream",
          "text": [
            "Epoch 1/5\n",
            "60000/60000 [==============================] - 65s 1ms/step - loss: 0.0169\n",
            "Epoch 2/5\n",
            " 7072/60000 [==>...........................] - ETA: 56s - loss: 0.0083"
          ],
          "name": "stdout"
        },
        {
          "output_type": "stream",
          "text": [
            "60000/60000 [==============================] - 64s 1ms/step - loss: 0.0073\n",
            "Epoch 3/5\n",
            "15520/60000 [======>.......................] - ETA: 47s - loss: 0.0064"
          ],
          "name": "stdout"
        },
        {
          "output_type": "stream",
          "text": [
            "60000/60000 [==============================] - 64s 1ms/step - loss: 0.0062\n",
            "Epoch 4/5\n",
            "19296/60000 [========>.....................] - ETA: 43s - loss: 0.0057"
          ],
          "name": "stdout"
        },
        {
          "output_type": "stream",
          "text": [
            "60000/60000 [==============================] - 63s 1ms/step - loss: 0.0055\n",
            "Epoch 5/5\n",
            "20128/60000 [=========>....................] - ETA: 42s - loss: 0.0052"
          ],
          "name": "stdout"
        },
        {
          "output_type": "stream",
          "text": [
            "60000/60000 [==============================] - 64s 1ms/step - loss: 0.0051\n"
          ],
          "name": "stdout"
        }
      ]
    },
    {
      "metadata": {
        "id": "Kr4i-JhKGbXS",
        "colab_type": "code",
        "colab": {
          "base_uri": "https://localhost:8080/",
          "height": 51
        },
        "outputId": "b2597a53-e0cf-497c-b1cc-e9e773f28514"
      },
      "cell_type": "code",
      "source": [
        "score = model.evaluate(X_test, X_test) # MSE score\n",
        "print(score)"
      ],
      "execution_count": 7,
      "outputs": [
        {
          "output_type": "stream",
          "text": [
            "10000/10000 [==============================] - 3s 311us/step\n",
            "0.004779346796125174\n"
          ],
          "name": "stdout"
        }
      ]
    },
    {
      "metadata": {
        "id": "RE_-ghKXLBuP",
        "colab_type": "code",
        "colab": {}
      },
      "cell_type": "code",
      "source": [
        "def visualize_results(img, encoder, decoder):\n",
        "  code = encoder.predict(img[None])[0] # [0] olmadan (1, 32)'lik bir dizi oldugu icin 0. indeksini aliyoruz.\n",
        "                                       # (32, )'lik bir dizi oluyor.\n",
        "  reconstruction = decoder.predict(code[None])[0]\n",
        "  \n",
        "  plt.subplot(1, 3, 1)\n",
        "  plt.title('Original')\n",
        "  plt.imshow(img.reshape(28, 28))\n",
        "  plt.axis('off')\n",
        "  \n",
        "  plt.subplot(1, 3, 2)\n",
        "  plt.title('Code')\n",
        "  plt.imshow(code.reshape([code.shape[-1]//2, -1]))\n",
        "  plt.axis('off')\n",
        "  \n",
        "  plt.subplot(1, 3, 3)\n",
        "  plt.title('Reconstructed')\n",
        "  plt.imshow(reconstruction.reshape(28, 28))\n",
        "  plt.axis('off')\n",
        "  \n",
        "  plt.show()"
      ],
      "execution_count": 0,
      "outputs": []
    },
    {
      "metadata": {
        "id": "QKAhPHDhLbrf",
        "colab_type": "code",
        "colab": {
          "base_uri": "https://localhost:8080/",
          "height": 1742
        },
        "outputId": "e51d3d8e-7640-4667-894d-4f72c9eb3549"
      },
      "cell_type": "code",
      "source": [
        "for i in range(5):\n",
        "  visualize_results(X_test[i], encoder, decoder)"
      ],
      "execution_count": 9,
      "outputs": [
        {
          "output_type": "display_data",
          "data": {
            "image/png": "[encoded data removed]",
            "text/plain": [
              "<matplotlib.figure.Figure at 0x7faed101e940>"
            ]
          },
          "metadata": {
            "tags": []
          }
        },
        {
          "output_type": "display_data",
          "data": {
            "image/png": "[encoded data removed]",
            "text/plain": [
              "<matplotlib.figure.Figure at 0x7faeb9c24b38>"
            ]
          },
          "metadata": {
            "tags": []
          }
        },
        {
          "output_type": "display_data",
          "data": {
            "image/png": "[encoded data removed]",
            "text/plain": [
              "<matplotlib.figure.Figure at 0x7faeb9bb1358>"
            ]
          },
          "metadata": {
            "tags": []
          }
        },
        {
          "output_type": "display_data",
          "data": {
            "image/png": "[encoded data removed]",
            "text/plain": [
              "<matplotlib.figure.Figure at 0x7faeb988c5c0>"
            ]
          },
          "metadata": {
            "tags": []
          }
        },
        {
          "output_type": "display_data",
          "data": {
            "image/png": "[encoded data removed]",
            "text/plain": [
              "<matplotlib.figure.Figure at 0x7faeb9b803c8>"
            ]
          },
          "metadata": {
            "tags": []
          }
        }
      ]
    }
  ]
}