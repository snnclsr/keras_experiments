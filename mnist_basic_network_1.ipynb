{
  "nbformat": 4,
  "nbformat_minor": 0,
  "metadata": {
    "colab": {
      "name": "mnist_basic_network_1.ipynb",
      "version": "0.3.2",
      "provenance": [],
      "collapsed_sections": []
    },
    "kernelspec": {
      "name": "python3",
      "display_name": "Python 3"
    },
    "accelerator": "GPU"
  },
  "cells": [
    {
      "metadata": {
        "id": "GFboOQdj4uGs",
        "colab_type": "code",
        "colab": {
          "base_uri": "https://localhost:8080/",
          "height": 34
        },
        "outputId": "a1512e9a-346c-4a04-94ee-0827e720e66b"
      },
      "cell_type": "code",
      "source": [
        "from __future__ import print_function\n",
        "\n",
        "import numpy as np\n",
        "from keras.layers import Activation, Dense\n",
        "from keras.models import Sequential\n",
        "from keras.optimizers import Adam, SGD, RMSprop\n",
        "from keras.datasets import mnist\n",
        "from keras.utils import np_utils\n",
        "from keras.losses import categorical_crossentropy\n",
        "\n",
        "np.random.seed(7)"
      ],
      "execution_count": 1,
      "outputs": [
        {
          "output_type": "stream",
          "text": [
            "Using TensorFlow backend.\n"
          ],
          "name": "stderr"
        }
      ]
    },
    {
      "metadata": {
        "id": "6lHSg6lp73Xw",
        "colab_type": "code",
        "colab": {}
      },
      "cell_type": "code",
      "source": [
        "(train_x, train_y), (test_x, test_y) = mnist.load_data()\n",
        "\n",
        "train_x = train_x.reshape(60000, 784)\n",
        "test_x = test_x.reshape(10000, 784)\n",
        "\n",
        "train_y = np_utils.to_categorical(train_y, 10)\n",
        "test_y = np_utils.to_categorical(test_y, 10)\n",
        "\n",
        "\n",
        "train_x = train_x.astype('float32')\n",
        "test_x = test_x.astype('float32')\n",
        "train_x /= 255\n",
        "test_x /= 255\n"
      ],
      "execution_count": 0,
      "outputs": []
    },
    {
      "metadata": {
        "id": "xje0XfKi51OK",
        "colab_type": "code",
        "colab": {
          "base_uri": "https://localhost:8080/",
          "height": 170
        },
        "outputId": "dcf4b08a-f135-40e5-feaf-d77fa07f679d"
      },
      "cell_type": "code",
      "source": [
        "# Sadece tek katmanli 10 output uretiyoruz.\n",
        "model = Sequential()\n",
        "model.add(Dense(10, activation='softmax', input_shape=(784, )))\n",
        "\n",
        "model.compile(optimizer='adam', loss='categorical_crossentropy', metrics=['accuracy'])\n",
        "model.summary()"
      ],
      "execution_count": 3,
      "outputs": [
        {
          "output_type": "stream",
          "text": [
            "_________________________________________________________________\n",
            "Layer (type)                 Output Shape              Param #   \n",
            "=================================================================\n",
            "dense_1 (Dense)              (None, 10)                7850      \n",
            "=================================================================\n",
            "Total params: 7,850\n",
            "Trainable params: 7,850\n",
            "Non-trainable params: 0\n",
            "_________________________________________________________________\n"
          ],
          "name": "stdout"
        }
      ]
    },
    {
      "metadata": {
        "id": "PRG0rj7Q7Yt9",
        "colab_type": "code",
        "colab": {
          "base_uri": "https://localhost:8080/",
          "height": 241
        },
        "outputId": "24a4de6c-5ebd-4d82-9653-09d3e688f502"
      },
      "cell_type": "code",
      "source": [
        "model.fit(train_x, train_y, epochs=5, validation_split=0.2)"
      ],
      "execution_count": 4,
      "outputs": [
        {
          "output_type": "stream",
          "text": [
            "Train on 48000 samples, validate on 12000 samples\n",
            "Epoch 1/5\n",
            "48000/48000 [==============================] - 9s 190us/step - loss: 0.5054 - acc: 0.8687 - val_loss: 0.3194 - val_acc: 0.9131\n",
            "Epoch 2/5\n",
            "48000/48000 [==============================] - 9s 178us/step - loss: 0.3174 - acc: 0.9123 - val_loss: 0.2884 - val_acc: 0.9189\n",
            "Epoch 3/5\n",
            "27328/48000 [================>.............] - ETA: 3s - loss: 0.2934 - acc: 0.9184"
          ],
          "name": "stdout"
        },
        {
          "output_type": "stream",
          "text": [
            "48000/48000 [==============================] - 9s 180us/step - loss: 0.2930 - acc: 0.9186 - val_loss: 0.2779 - val_acc: 0.9237\n",
            "Epoch 4/5\n",
            "48000/48000 [==============================] - 9s 179us/step - loss: 0.2811 - acc: 0.9215 - val_loss: 0.2697 - val_acc: 0.9263\n",
            "Epoch 5/5\n",
            "48000/48000 [==============================] - 9s 180us/step - loss: 0.2735 - acc: 0.9241 - val_loss: 0.2666 - val_acc: 0.9264\n"
          ],
          "name": "stdout"
        },
        {
          "output_type": "execute_result",
          "data": {
            "text/plain": [
              "<keras.callbacks.History at 0x7f01db7ac9b0>"
            ]
          },
          "metadata": {
            "tags": []
          },
          "execution_count": 4
        }
      ]
    },
    {
      "metadata": {
        "id": "rp7XbBHq7grl",
        "colab_type": "code",
        "colab": {
          "base_uri": "https://localhost:8080/",
          "height": 68
        },
        "outputId": "bed8c02c-8925-4a8e-8156-cb00625fe9f8"
      },
      "cell_type": "code",
      "source": [
        "score = model.evaluate(test_x, test_y)\n",
        "\n",
        "print(\"Test score: \", score[0])\n",
        "print(\"Test accuracy: \", score[1])\n"
      ],
      "execution_count": 5,
      "outputs": [
        {
          "output_type": "stream",
          "text": [
            "10000/10000 [==============================] - 1s 66us/step\n",
            "Test score:  0.273139390411973\n",
            "Test accuracy:  0.9242\n"
          ],
          "name": "stdout"
        }
      ]
    }
  ]
}