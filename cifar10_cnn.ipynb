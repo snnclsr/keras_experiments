{
  "nbformat": 4,
  "nbformat_minor": 0,
  "metadata": {
    "colab": {
      "name": "cifar10_cnn.ipynb",
      "version": "0.3.2",
      "provenance": [],
      "collapsed_sections": []
    },
    "kernelspec": {
      "name": "python3",
      "display_name": "Python 3"
    },
    "accelerator": "GPU"
  },
  "cells": [
    {
      "metadata": {
        "id": "azlRt1-qQYr1",
        "colab_type": "code",
        "colab": {}
      },
      "cell_type": "code",
      "source": [
        "import numpy as np\n",
        "import matplotlib.pyplot as plt\n",
        "\n",
        "from keras.datasets import cifar10\n",
        "from keras.layers import Conv2D, Dense, Flatten, MaxPool2D, Dropout\n",
        "from keras.models import Sequential\n",
        "from keras.optimizers import RMSprop\n",
        "from keras.utils import np_utils\n",
        "from keras.callbacks import EarlyStopping"
      ],
      "execution_count": 0,
      "outputs": []
    },
    {
      "metadata": {
        "id": "kF3o_QNOROjd",
        "colab_type": "code",
        "colab": {}
      },
      "cell_type": "code",
      "source": [
        "(train_x, train_y), (test_x, test_y) = cifar10.load_data()\n",
        "\n",
        "train_x = train_x.astype('float32') / 255\n",
        "test_x = test_x.astype('float32') / 255\n",
        "\n",
        "train_y = np_utils.to_categorical(train_y)\n",
        "test_y = np_utils.to_categorical(test_y)"
      ],
      "execution_count": 0,
      "outputs": []
    },
    {
      "metadata": {
        "id": "nZZ_e2uERwC7",
        "colab_type": "code",
        "colab": {}
      },
      "cell_type": "code",
      "source": [
        "model = Sequential()\n",
        "model.add(Conv2D(32, (3, 3), activation='relu', padding='same', input_shape=(32, 32, 3)))\n",
        "model.add(Conv2D(32, (3, 3), activation='relu', input_shape=(32, 32, 3)))\n",
        "model.add(MaxPool2D((2, 2)))\n",
        "model.add(Dropout(0.25))\n",
        "model.add(Conv2D(64, (3, 3), activation='relu', padding='same'))\n",
        "model.add(Conv2D(64, (3, 3), activation='relu'))\n",
        "model.add(MaxPool2D((2, 2), strides=(2, 2)))\n",
        "model.add(Dropout(0.25))\n",
        "model.add(Conv2D(128, (3,3), activation='relu', padding='same'))\n",
        "model.add(Conv2D(128, (3, 3), activation='relu'))\n",
        "model.add(MaxPool2D((2, 2)))\n",
        "model.add(Dropout(0.25))\n",
        "\n",
        "model.add(Flatten())\n",
        "model.add(Dense(512, activation='relu'))\n",
        "model.add(Dropout(0.5))\n",
        "model.add(Dense(10, activation='softmax'))"
      ],
      "execution_count": 0,
      "outputs": []
    },
    {
      "metadata": {
        "id": "RONuY1ZrSaf8",
        "colab_type": "code",
        "colab": {
          "base_uri": "https://localhost:8080/",
          "height": 680
        },
        "outputId": "c8ae4207-c6c1-401e-fc62-ac50dbf2f101"
      },
      "cell_type": "code",
      "source": [
        "model.compile(optimizer='adam', loss='categorical_crossentropy', metrics=['accuracy'])\n",
        "\n",
        "model.summary()"
      ],
      "execution_count": 14,
      "outputs": [
        {
          "output_type": "stream",
          "text": [
            "_________________________________________________________________\n",
            "Layer (type)                 Output Shape              Param #   \n",
            "=================================================================\n",
            "conv2d_7 (Conv2D)            (None, 32, 32, 32)        896       \n",
            "_________________________________________________________________\n",
            "conv2d_8 (Conv2D)            (None, 30, 30, 32)        9248      \n",
            "_________________________________________________________________\n",
            "max_pooling2d_5 (MaxPooling2 (None, 15, 15, 32)        0         \n",
            "_________________________________________________________________\n",
            "dropout_5 (Dropout)          (None, 15, 15, 32)        0         \n",
            "_________________________________________________________________\n",
            "conv2d_9 (Conv2D)            (None, 15, 15, 64)        18496     \n",
            "_________________________________________________________________\n",
            "conv2d_10 (Conv2D)           (None, 13, 13, 64)        36928     \n",
            "_________________________________________________________________\n",
            "max_pooling2d_6 (MaxPooling2 (None, 6, 6, 64)          0         \n",
            "_________________________________________________________________\n",
            "dropout_6 (Dropout)          (None, 6, 6, 64)          0         \n",
            "_________________________________________________________________\n",
            "conv2d_11 (Conv2D)           (None, 6, 6, 128)         73856     \n",
            "_________________________________________________________________\n",
            "conv2d_12 (Conv2D)           (None, 4, 4, 128)         147584    \n",
            "_________________________________________________________________\n",
            "max_pooling2d_7 (MaxPooling2 (None, 2, 2, 128)         0         \n",
            "_________________________________________________________________\n",
            "dropout_7 (Dropout)          (None, 2, 2, 128)         0         \n",
            "_________________________________________________________________\n",
            "flatten_2 (Flatten)          (None, 512)               0         \n",
            "_________________________________________________________________\n",
            "dense_3 (Dense)              (None, 512)               262656    \n",
            "_________________________________________________________________\n",
            "dropout_8 (Dropout)          (None, 512)               0         \n",
            "_________________________________________________________________\n",
            "dense_4 (Dense)              (None, 10)                5130      \n",
            "=================================================================\n",
            "Total params: 554,794\n",
            "Trainable params: 554,794\n",
            "Non-trainable params: 0\n",
            "_________________________________________________________________\n"
          ],
          "name": "stdout"
        }
      ]
    },
    {
      "metadata": {
        "id": "Wm8Tm1MxSnBm",
        "colab_type": "code",
        "colab": {
          "base_uri": "https://localhost:8080/",
          "height": 1040
        },
        "outputId": "6f01e532-4d1d-4b5b-d471-a968a911bb77"
      },
      "cell_type": "code",
      "source": [
        "es = EarlyStopping(monitor='val_loss', min_delta=0, patience=3, verbose=0, mode='auto')\n",
        "\n",
        "history = model.fit(train_x, train_y, epochs=30, batch_size=128, validation_split=0.1, callbacks=[es])"
      ],
      "execution_count": 15,
      "outputs": [
        {
          "output_type": "stream",
          "text": [
            "Train on 45000 samples, validate on 5000 samples\n",
            "Epoch 1/30\n",
            "45000/45000 [==============================] - 16s 362us/step - loss: 1.7671 - acc: 0.3331 - val_loss: 1.4265 - val_acc: 0.4792\n",
            "Epoch 2/30\n",
            "45000/45000 [==============================] - 15s 344us/step - loss: 1.3246 - acc: 0.5188 - val_loss: 1.1428 - val_acc: 0.5966\n",
            "Epoch 3/30\n",
            "14464/45000 [========>.....................] - ETA: 10s - loss: 1.1695 - acc: 0.5792"
          ],
          "name": "stdout"
        },
        {
          "output_type": "stream",
          "text": [
            "45000/45000 [==============================] - 16s 346us/step - loss: 1.1410 - acc: 0.5925 - val_loss: 0.9905 - val_acc: 0.6462\n",
            "Epoch 4/30\n",
            "45000/45000 [==============================] - 16s 346us/step - loss: 1.0284 - acc: 0.6350 - val_loss: 0.8555 - val_acc: 0.6976\n",
            "Epoch 5/30\n",
            "35072/45000 [======================>.......] - ETA: 3s - loss: 0.9430 - acc: 0.6673"
          ],
          "name": "stdout"
        },
        {
          "output_type": "stream",
          "text": [
            "45000/45000 [==============================] - 16s 347us/step - loss: 0.9296 - acc: 0.6724 - val_loss: 0.8316 - val_acc: 0.7056\n",
            "Epoch 6/30\n",
            "45000/45000 [==============================] - 16s 345us/step - loss: 0.8653 - acc: 0.6969 - val_loss: 0.8141 - val_acc: 0.7098\n",
            "Epoch 7/30\n",
            "40064/45000 [=========================>....] - ETA: 1s - loss: 0.8034 - acc: 0.7173"
          ],
          "name": "stdout"
        },
        {
          "output_type": "stream",
          "text": [
            "45000/45000 [==============================] - 15s 343us/step - loss: 0.8009 - acc: 0.7185 - val_loss: 0.7137 - val_acc: 0.7446\n",
            "Epoch 8/30\n",
            "45000/45000 [==============================] - 15s 344us/step - loss: 0.7577 - acc: 0.7377 - val_loss: 0.7011 - val_acc: 0.7518\n",
            "Epoch 9/30\n",
            "41216/45000 [==========================>...] - ETA: 1s - loss: 0.7173 - acc: 0.7489"
          ],
          "name": "stdout"
        },
        {
          "output_type": "stream",
          "text": [
            "45000/45000 [==============================] - 16s 345us/step - loss: 0.7164 - acc: 0.7486 - val_loss: 0.6644 - val_acc: 0.7672\n",
            "Epoch 10/30\n",
            "45000/45000 [==============================] - 16s 345us/step - loss: 0.6843 - acc: 0.7602 - val_loss: 0.6148 - val_acc: 0.7808\n",
            "Epoch 11/30\n",
            "40960/45000 [==========================>...] - ETA: 1s - loss: 0.6427 - acc: 0.7757"
          ],
          "name": "stdout"
        },
        {
          "output_type": "stream",
          "text": [
            "45000/45000 [==============================] - 15s 344us/step - loss: 0.6451 - acc: 0.7747 - val_loss: 0.6427 - val_acc: 0.7724\n",
            "Epoch 12/30\n",
            "45000/45000 [==============================] - 15s 344us/step - loss: 0.6273 - acc: 0.7786 - val_loss: 0.6350 - val_acc: 0.7830\n",
            "Epoch 13/30\n",
            "41088/45000 [==========================>...] - ETA: 1s - loss: 0.6071 - acc: 0.7871"
          ],
          "name": "stdout"
        },
        {
          "output_type": "stream",
          "text": [
            "45000/45000 [==============================] - 15s 343us/step - loss: 0.6095 - acc: 0.7870 - val_loss: 0.5903 - val_acc: 0.7926\n",
            "Epoch 14/30\n",
            "45000/45000 [==============================] - 15s 344us/step - loss: 0.5855 - acc: 0.7955 - val_loss: 0.5823 - val_acc: 0.7950\n",
            "Epoch 15/30\n",
            "40448/45000 [=========================>....] - ETA: 1s - loss: 0.5738 - acc: 0.8005"
          ],
          "name": "stdout"
        },
        {
          "output_type": "stream",
          "text": [
            "45000/45000 [==============================] - 16s 346us/step - loss: 0.5727 - acc: 0.8007 - val_loss: 0.5796 - val_acc: 0.8062\n",
            "Epoch 16/30\n",
            "45000/45000 [==============================] - 16s 345us/step - loss: 0.5499 - acc: 0.8067 - val_loss: 0.6282 - val_acc: 0.7880\n",
            "Epoch 17/30\n",
            "40448/45000 [=========================>....] - ETA: 1s - loss: 0.5373 - acc: 0.8112"
          ],
          "name": "stdout"
        },
        {
          "output_type": "stream",
          "text": [
            "45000/45000 [==============================] - 15s 342us/step - loss: 0.5383 - acc: 0.8108 - val_loss: 0.6055 - val_acc: 0.8028\n",
            "Epoch 18/30\n",
            "45000/45000 [==============================] - 15s 343us/step - loss: 0.5218 - acc: 0.8165 - val_loss: 0.5771 - val_acc: 0.8074\n",
            "Epoch 19/30\n",
            "40832/45000 [==========================>...] - ETA: 1s - loss: 0.5177 - acc: 0.8226"
          ],
          "name": "stdout"
        },
        {
          "output_type": "stream",
          "text": [
            "45000/45000 [==============================] - 15s 343us/step - loss: 0.5180 - acc: 0.8219 - val_loss: 0.5739 - val_acc: 0.8034\n",
            "Epoch 20/30\n",
            "45000/45000 [==============================] - 15s 341us/step - loss: 0.4983 - acc: 0.8249 - val_loss: 0.5805 - val_acc: 0.8098\n",
            "Epoch 21/30\n",
            "40960/45000 [==========================>...] - ETA: 1s - loss: 0.4903 - acc: 0.8255"
          ],
          "name": "stdout"
        },
        {
          "output_type": "stream",
          "text": [
            "45000/45000 [==============================] - 15s 343us/step - loss: 0.4914 - acc: 0.8251 - val_loss: 0.5698 - val_acc: 0.8076\n",
            "Epoch 22/30\n",
            "45000/45000 [==============================] - 15s 344us/step - loss: 0.4828 - acc: 0.8312 - val_loss: 0.5743 - val_acc: 0.8076\n",
            "Epoch 23/30\n",
            "40832/45000 [==========================>...] - ETA: 1s - loss: 0.4709 - acc: 0.8347"
          ],
          "name": "stdout"
        },
        {
          "output_type": "stream",
          "text": [
            "45000/45000 [==============================] - 15s 343us/step - loss: 0.4693 - acc: 0.8355 - val_loss: 0.5564 - val_acc: 0.8114\n",
            "Epoch 24/30\n",
            "45000/45000 [==============================] - 15s 343us/step - loss: 0.4627 - acc: 0.8370 - val_loss: 0.6085 - val_acc: 0.7990\n",
            "Epoch 25/30\n",
            "40832/45000 [==========================>...] - ETA: 1s - loss: 0.4615 - acc: 0.8387"
          ],
          "name": "stdout"
        },
        {
          "output_type": "stream",
          "text": [
            "45000/45000 [==============================] - 15s 342us/step - loss: 0.4618 - acc: 0.8390 - val_loss: 0.5758 - val_acc: 0.8176\n",
            "Epoch 26/30\n",
            "45000/45000 [==============================] - 16s 346us/step - loss: 0.4447 - acc: 0.8430 - val_loss: 0.5495 - val_acc: 0.8198\n",
            "Epoch 27/30\n",
            "40192/45000 [=========================>....] - ETA: 1s - loss: 0.4295 - acc: 0.8494"
          ],
          "name": "stdout"
        },
        {
          "output_type": "stream",
          "text": [
            "45000/45000 [==============================] - 16s 345us/step - loss: 0.4328 - acc: 0.8482 - val_loss: 0.5715 - val_acc: 0.8170\n",
            "Epoch 28/30\n",
            "45000/45000 [==============================] - 16s 345us/step - loss: 0.4295 - acc: 0.8485 - val_loss: 0.5581 - val_acc: 0.8176\n",
            "Epoch 29/30\n",
            "40960/45000 [==========================>...] - ETA: 1s - loss: 0.4197 - acc: 0.8521"
          ],
          "name": "stdout"
        },
        {
          "output_type": "stream",
          "text": [
            "45000/45000 [==============================] - 16s 344us/step - loss: 0.4206 - acc: 0.8520 - val_loss: 0.5682 - val_acc: 0.8144\n"
          ],
          "name": "stdout"
        }
      ]
    },
    {
      "metadata": {
        "id": "Bm419JSSTQRW",
        "colab_type": "code",
        "colab": {
          "base_uri": "https://localhost:8080/",
          "height": 68
        },
        "outputId": "b52bf9e7-1d93-4d94-cec7-8604591111d1"
      },
      "cell_type": "code",
      "source": [
        "score, acc = model.evaluate(test_x, test_y)\n",
        "\n",
        "print(\"Test score: \", score)\n",
        "print(\"Test accuracy: \", acc)"
      ],
      "execution_count": 16,
      "outputs": [
        {
          "output_type": "stream",
          "text": [
            "10000/10000 [==============================] - 2s 205us/step\n",
            "Test score:  0.6060107337474823\n",
            "Test accuracy:  0.8058\n"
          ],
          "name": "stdout"
        }
      ]
    },
    {
      "metadata": {
        "id": "z8Bs6oDwUork",
        "colab_type": "code",
        "colab": {
          "base_uri": "https://localhost:8080/",
          "height": 705
        },
        "outputId": "cf5366f0-4df0-41ef-8a5b-02f68bf56434"
      },
      "cell_type": "code",
      "source": [
        "acc = history.history['acc']\n",
        "val_acc = history.history['val_acc']\n",
        "\n",
        "loss = history.history['loss']\n",
        "val_loss = history.history['val_loss']\n",
        "\n",
        "plt.plot(acc)\n",
        "plt.plot(val_acc)\n",
        "plt.xlabel('epochs')\n",
        "plt.ylabel('accuracy')\n",
        "plt.legend(['train', 'test'])\n",
        "plt.show()\n",
        "\n",
        "plt.plot(loss)\n",
        "plt.plot(val_loss)\n",
        "plt.xlabel('epochs')\n",
        "plt.ylabel('accuracy')\n",
        "plt.legend(['train', 'test'])\n",
        "plt.show()\n"
      ],
      "execution_count": 17,
      "outputs": [
        {
          "output_type": "display_data",
          "data": {
            "image/png": "[encoded data removed]",
            "text/plain": [
              "<matplotlib.figure.Figure at 0x7ff2cb29e668>"
            ]
          },
          "metadata": {
            "tags": []
          }
        },
        {
          "output_type": "display_data",
          "data": {
            "image/png": "[encoded data removed]",
            "text/plain": [
              "<matplotlib.figure.Figure at 0x7ff2cb376198>"
            ]
          },
          "metadata": {
            "tags": []
          }
        }
      ]
    }
  ]
}